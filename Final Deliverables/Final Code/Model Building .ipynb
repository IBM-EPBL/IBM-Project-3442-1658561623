{
 "cells": [
  {
   "cell_type": "code",
   "execution_count": 1,
   "id": "b571601d",
   "metadata": {},
   "outputs": [],
   "source": [
    "##Importing The Required Libraries\n",
    "import numpy as np\n",
    "import tensorflow #open source used for both ML and DL for computation\n",
    "from tensorflow.keras.datasets import mnist #mnist dataset\n",
    "from tensorflow.keras.models import Sequential #it is a plain stack of layers\n",
    "from tensorflow.keras import layers #A Layer consists of a tensor- in tensor-out computat ion funct ion\n",
    "from tensorflow.keras.layers import Dense, Flatten #Dense-Dense Layer is the regular deeply connected r\n",
    "#faltten -used fot flattening the input or change the dimension\n",
    "from tensorflow.keras.layers import Conv2D #onvoLutiona l Layer\n",
    "from keras.optimizers import Adam #opt imizer\n",
    "from keras. utils import np_utils #used for one-hot encoding\n",
    "import matplotlib.pyplot as plt   #used for data visualization"
   ]
  },
  {
   "cell_type": "code",
   "execution_count": 2,
   "id": "0022c831",
   "metadata": {},
   "outputs": [],
   "source": [
    "(x_train, y_train), (x_test, y_test)=mnist.load_data ()\n",
    "x_train=x_train.reshape (60000, 28, 28, 1).astype('float32')\n",
    "x_test=x_test.reshape (10000, 28, 28, 1).astype ('float32')\n",
    "number_of_classes = 10  #storing the no of classes in a variable\n",
    "y_train = np_utils.to_categorical (y_train, number_of_classes) #converts the output in binary format\n",
    "y_test = np_utils.to_categorical (y_test, number_of_classes)"
   ]
  },
  {
   "cell_type": "code",
   "execution_count": 3,
   "id": "811096b5",
   "metadata": {},
   "outputs": [],
   "source": [
    "##Adding The CNN Layers\n",
    "#create model\n",
    "model=Sequential ()"
   ]
  },
  {
   "cell_type": "code",
   "execution_count": 4,
   "id": "607ea639",
   "metadata": {},
   "outputs": [],
   "source": [
    "#adding modeL Layer\n",
    "model.add(Conv2D(64, (3, 3), input_shape=(28, 28, 1), activation='relu'))\n",
    "model.add(Conv2D(32, (3, 3), activation = 'relu'))"
   ]
  },
  {
   "cell_type": "code",
   "execution_count": 5,
   "id": "41dddb4f",
   "metadata": {},
   "outputs": [],
   "source": [
    "#flatten the dimension of the image\n",
    "model.add(Flatten())"
   ]
  },
  {
   "cell_type": "code",
   "execution_count": 6,
   "id": "f857fba3",
   "metadata": {},
   "outputs": [],
   "source": [
    "#output layer with 10 neurons\n",
    "model.add(Dense(number_of_classes,activation = 'softmax'))"
   ]
  },
  {
   "cell_type": "code",
   "execution_count": 7,
   "id": "0c511820",
   "metadata": {},
   "outputs": [],
   "source": [
    "##Compiling The Model\n",
    "model.compile(loss= 'categorical_crossentropy', optimizer=\"Adam\", metrics=['accuracy'])"
   ]
  },
  {
   "cell_type": "code",
   "execution_count": 8,
   "id": "45142f79",
   "metadata": {},
   "outputs": [],
   "source": [
    "x_train = np.asarray(x_train)\n",
    "y_train = np.asarray(y_train)"
   ]
  },
  {
   "cell_type": "code",
   "execution_count": 9,
   "id": "3f84e4fd",
   "metadata": {},
   "outputs": [
    {
     "name": "stdout",
     "output_type": "stream",
     "text": [
      "Epoch 1/5\n",
      "1875/1875 [==============================] - 79s 42ms/step - loss: 0.1941 - accuracy: 0.9557 - val_loss: 0.0773 - val_accuracy: 0.9763\n",
      "Epoch 2/5\n",
      "1875/1875 [==============================] - 77s 41ms/step - loss: 0.0614 - accuracy: 0.9812 - val_loss: 0.0710 - val_accuracy: 0.9776\n",
      "Epoch 3/5\n",
      "1875/1875 [==============================] - 79s 42ms/step - loss: 0.0447 - accuracy: 0.9866 - val_loss: 0.0787 - val_accuracy: 0.9784\n",
      "Epoch 4/5\n",
      "1875/1875 [==============================] - 82s 44ms/step - loss: 0.0367 - accuracy: 0.9887 - val_loss: 0.0860 - val_accuracy: 0.9810\n",
      "Epoch 5/5\n",
      "1875/1875 [==============================] - 75s 40ms/step - loss: 0.0285 - accuracy: 0.9916 - val_loss: 0.0820 - val_accuracy: 0.9808\n"
     ]
    },
    {
     "data": {
      "text/plain": [
       "<keras.callbacks.History at 0x1c81fd4d940>"
      ]
     },
     "execution_count": 9,
     "metadata": {},
     "output_type": "execute_result"
    }
   ],
   "source": [
    "##Train The Model\n",
    "#fit the model\n",
    "model.fit(x_train, y_train, validation_data=(x_test, y_test), epochs=5, batch_size=32)"
   ]
  },
  {
   "cell_type": "code",
   "execution_count": 10,
   "id": "57f0c59d",
   "metadata": {},
   "outputs": [
    {
     "name": "stdout",
     "output_type": "stream",
     "text": [
      "Metrics (Test loss &Test Accuracy) : \n",
      "[0.08197209984064102, 0.9807999730110168]\n"
     ]
    }
   ],
   "source": [
    "##Observing The Metrics\n",
    "# Final evaluation of the model\n",
    "metrics = model.evaluate(x_test, y_test, verbose=0)\n",
    "print(\"Metrics (Test loss &Test Accuracy) : \")\n",
    "print(metrics)"
   ]
  },
  {
   "cell_type": "code",
   "execution_count": 11,
   "id": "df9a6416",
   "metadata": {},
   "outputs": [
    {
     "name": "stdout",
     "output_type": "stream",
     "text": [
      "1/1 [==============================] - 0s 118ms/step\n",
      "[[1.6846973e-16 2.4640157e-17 1.3057144e-13 4.5306692e-10 6.9653865e-06\n",
      "  1.7871404e-08 4.1328499e-15 5.2999464e-08 1.5458697e-06 9.9999142e-01]]\n"
     ]
    }
   ],
   "source": [
    "prediction=model.predict(x_test[6000:6001])\n",
    "print(prediction)"
   ]
  },
  {
   "cell_type": "code",
   "execution_count": 12,
   "id": "c12bf1d6",
   "metadata": {},
   "outputs": [
    {
     "data": {
      "text/plain": [
       "<matplotlib.image.AxesImage at 0x1c820044580>"
      ]
     },
     "execution_count": 12,
     "metadata": {},
     "output_type": "execute_result"
    },
    {
     "data": {
      "image/png": "[encoded data removed]",
      "text/plain": [
       "<Figure size 432x288 with 1 Axes>"
      ]
     },
     "metadata": {
      "needs_background": "light"
     },
     "output_type": "display_data"
    }
   ],
   "source": [
    "plt.imshow(x_test[6000])"
   ]
  },
  {
   "cell_type": "code",
   "execution_count": 13,
   "id": "c70fdfee",
   "metadata": {},
   "outputs": [
    {
     "name": "stdout",
     "output_type": "stream",
     "text": [
      "[9]\n"
     ]
    }
   ],
   "source": [
    "##Testing the Model\n",
    "import numpy as np\n",
    "print(np.argmax(prediction, axis=1)) #printing our Labels from first 4 images"
   ]
  },
  {
   "cell_type": "code",
   "execution_count": 14,
   "id": "6e699ddf",
   "metadata": {},
   "outputs": [
    {
     "data": {
      "text/plain": [
       "9"
      ]
     },
     "execution_count": 14,
     "metadata": {},
     "output_type": "execute_result"
    }
   ],
   "source": [
    "np.argmax(y_test[6000:6001]) #printing the actual labels"
   ]
  },
  {
   "cell_type": "code",
   "execution_count": 16,
   "id": "d494dfbc",
   "metadata": {},
   "outputs": [],
   "source": [
    "##Saving The Model\n",
    "model.save('models/mnistCNN.h5')"
   ]
  },
  {
   "cell_type": "code",
   "execution_count": null,
   "id": "67982d68",
   "metadata": {},
   "outputs": [],
   "source": []
  }
 ],
 "metadata": {
  "kernelspec": {
   "display_name": "Python 3 (ipykernel)",
   "language": "python",
   "name": "python3"
  },
  "language_info": {
   "codemirror_mode": {
    "name": "ipython",
    "version": 3
   },
   "file_extension": ".py",
   "mimetype": "text/x-python",
   "name": "python",
   "nbconvert_exporter": "python",
   "pygments_lexer": "ipython3",
   "version": "3.9.10"
  }
 },
 "nbformat": 4,
 "nbformat_minor": 5
}
